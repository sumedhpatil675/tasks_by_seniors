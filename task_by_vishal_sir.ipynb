{
  "nbformat": 4,
  "nbformat_minor": 0,
  "metadata": {
    "colab": {
      "name": "task_by_vishal_sir.ipynb",
      "provenance": [],
      "collapsed_sections": []
    },
    "kernelspec": {
      "name": "python3",
      "display_name": "Python 3"
    }
  },
  "cells": [
    {
      "cell_type": "markdown",
      "metadata": {
        "id": "sZsOeuXUBz8N",
        "colab_type": "text"
      },
      "source": [
        "Aim : Face detection using Harcascade Classifier\n",
        "\n",
        "Author : Sumedh Patil **51910008**"
      ]
    },
    {
      "cell_type": "markdown",
      "metadata": {
        "id": "WPH1QAsDCKxj",
        "colab_type": "text"
      },
      "source": [
        "Harcascade classifier is a pretrained model for recognisation of various objects such as face detection,eye detection , number plate detection.\n",
        "All the weights of models are saved in a xml file."
      ]
    },
    {
      "cell_type": "markdown",
      "metadata": {
        "id": "lNFb7FVnCrvr",
        "colab_type": "text"
      },
      "source": [
        " I have downloaded the required file of face detection from github."
      ]
    },
    {
      "cell_type": "markdown",
      "metadata": {
        "id": "d0sfWzOzC_eG",
        "colab_type": "text"
      },
      "source": [
        "##### Importing computer vision library"
      ]
    },
    {
      "cell_type": "code",
      "metadata": {
        "id": "K5xca3HuG_0g",
        "colab_type": "code",
        "colab": {}
      },
      "source": [
        "import cv2"
      ],
      "execution_count": 0,
      "outputs": []
    },
    {
      "cell_type": "markdown",
      "metadata": {
        "id": "PDL8DRuKHFaa",
        "colab_type": "text"
      },
      "source": [
        "##### Loading Harcascade classifier"
      ]
    },
    {
      "cell_type": "code",
      "metadata": {
        "id": "r9l0esOtHKjL",
        "colab_type": "code",
        "colab": {}
      },
      "source": [
        "face_cascade = cv2.CascadeClassifier('/tmp/haarcascade_frontalface_default.xml')"
      ],
      "execution_count": 0,
      "outputs": []
    },
    {
      "cell_type": "markdown",
      "metadata": {
        "id": "NjcNrFMMHkBd",
        "colab_type": "text"
      },
      "source": [
        "##### loading video source"
      ]
    },
    {
      "cell_type": "code",
      "metadata": {
        "id": "jcWzSvLtHsH-",
        "colab_type": "code",
        "colab": {}
      },
      "source": [
        "cap = cv2.VideoCapture(0)"
      ],
      "execution_count": 0,
      "outputs": []
    },
    {
      "cell_type": "markdown",
      "metadata": {
        "id": "WehzFjm8IBen",
        "colab_type": "text"
      },
      "source": [
        "##### Loading and recognizing face"
      ]
    },
    {
      "cell_type": "code",
      "metadata": {
        "id": "jAPdjSfrIDmm",
        "colab_type": "code",
        "colab": {
          "base_uri": "https://localhost:8080/",
          "height": 35
        },
        "outputId": "0b4205fb-c42c-4c7d-d734-43a5b9b3c78d"
      },
      "source": [
        "while cap.isOpened():\n",
        "  _, img = cap.read()\n",
        "  gray = cv2.cvtColor(img,cv2.COLOR_BGR2GRAY)\n",
        "  faces = face_cascade.detectMultiScale(gray,1.1,4)\n",
        "\n",
        "  for(x,y,w,h) in faces:\n",
        "    cv2.rectangle(img,(x,y),(x+w,y+h),(255,0,0),3)\n",
        "\n",
        "  ##Display the output\n",
        "  cv2.imshow('img',img)\n",
        "  if cv2.waitKey(1) & 0xFF == ord('q'):\n",
        "    break\n",
        "\n",
        "cap.release"
      ],
      "execution_count": 13,
      "outputs": [
        {
          "output_type": "execute_result",
          "data": {
            "text/plain": [
              "<function VideoCapture.release>"
            ]
          },
          "metadata": {
            "tags": []
          },
          "execution_count": 13
        }
      ]
    },
    {
      "cell_type": "markdown",
      "metadata": {
        "id": "u20yJNgtMYLF",
        "colab_type": "text"
      },
      "source": [
        "![alt text](https://raw.githubusercontent.com/sumedhpatil675/tasks_by_seniors/master/face_detection_screenshot.png)"
      ]
    }
  ]
}