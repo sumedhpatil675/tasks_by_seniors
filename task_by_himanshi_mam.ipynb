{
  "nbformat": 4,
  "nbformat_minor": 0,
  "metadata": {
    "colab": {
      "name": "task_by_himanshi_mam.ipynb",
      "provenance": [],
      "collapsed_sections": []
    },
    "kernelspec": {
      "name": "python3",
      "display_name": "Python 3"
    }
  },
  "cells": [
    {
      "cell_type": "markdown",
      "metadata": {
        "id": "KY_JLvHlrvOr",
        "colab_type": "text"
      },
      "source": [
        "Author : Sumedh Patil\n",
        "Roll No : 51910008\n",
        "### Aim - Malaria Detection using machine learning"
      ]
    },
    {
      "cell_type": "markdown",
      "metadata": {
        "id": "_uQGRflS-wAY",
        "colab_type": "text"
      },
      "source": [
        "We have given a dataset of png files of microscopic image of blood cells.\n",
        "If we observed these images of Parasitized images we will be able to see some patterns of round shape , which indicates patient is infected."
      ]
    },
    {
      "cell_type": "markdown",
      "metadata": {
        "id": "_ea3et1kBjrf",
        "colab_type": "text"
      },
      "source": [
        "![alt text](https://raw.githubusercontent.com/sumedhpatil675/tasks_by_seniors/master/para_malaria.png)"
      ]
    },
    {
      "cell_type": "markdown",
      "metadata": {
        "id": "iaYIMIFCBrWF",
        "colab_type": "text"
      },
      "source": [
        "So, First of all we will need to convert these round patterns into numerical values into csv file , so, that we can train our model by using machine learning algorithm."
      ]
    },
    {
      "cell_type": "markdown",
      "metadata": {
        "id": "APPwM-g6CSpV",
        "colab_type": "text"
      },
      "source": [
        "For this purpose ,We can use famous library of python whic is opencv . Which will help us to find the size of these each counters and with the help of csv libray will store this data of areas of different counter in our csv file."
      ]
    },
    {
      "cell_type": "code",
      "metadata": {
        "id": "pdeTjQGSDQKH",
        "colab_type": "code",
        "colab": {}
      },
      "source": [
        "# -*- coding: utf-8 -*-\n",
        "\"\"\"\n",
        "Created on Tue Jun  2 12:18:02 2020\n",
        "\n",
        "@author: Sumedh Patil 51910008\n",
        "\"\"\"\n",
        "\n",
        "import cv2,os\n",
        "import numpy as np\n",
        "import csv \n",
        "import glob\n",
        "\n",
        "label = \"Uninfected\"  #class name\n",
        "dirList = glob.glob(\"cell_images/\"+label+\"/*.png\") #path of our images\n",
        "file = open(\"csv/dataset.csv\",\"a+\")  #generated csv file path\n",
        "\n",
        "for img_path in dirList:\n",
        "     im = cv2.imread(img_path)\n",
        "     im = cv2.GaussianBlur(im,(5,5),2)\n",
        "     im_gray = cv2.cvtColor(im,cv2.COLOR_BGR2GRAY)  #converting to grayscale image\n",
        "     ret,thresh = cv2.threshold(im_gray,127,255,0)\n",
        "     contours,_ = cv2.findContours(thresh,1,2) #finding counters in images\n",
        "     \n",
        "     \n",
        "     \n",
        "     file.write(label)  #saving label name\n",
        "     file.write(\",\")\n",
        "     for i in range(5):\n",
        "         try:\n",
        "             area = cv2.contourArea(contours[i])\n",
        "             file.write(str(area))   #saving area of each counters(5)\n",
        "         except:\n",
        "             file.write(\"0\")\n",
        "             \n",
        "         file.write(\",\")\n",
        "        \n",
        "        \n",
        "     file.write(\"\\n\")   "
      ],
      "execution_count": 0,
      "outputs": []
    },
    {
      "cell_type": "markdown",
      "metadata": {
        "id": "5MrLTcDrEAEt",
        "colab_type": "text"
      },
      "source": [
        "Now , We have succesfully generated a numerical data from our images , nw, next step is to feed this numerical data into our machine learning algorithm for training."
      ]
    },
    {
      "cell_type": "markdown",
      "metadata": {
        "id": "nhj-G0KvGriw",
        "colab_type": "text"
      },
      "source": [
        "##### importing neccesary libraries"
      ]
    },
    {
      "cell_type": "code",
      "metadata": {
        "id": "R8N_N4O_EQsQ",
        "colab_type": "code",
        "colab": {}
      },
      "source": [
        "import pandas as pd  #for reading our csv file\n",
        "from sklearn.model_selection import train_test_split #for training and spliting our data\n",
        "from sklearn.ensemble import RandomForestClassifier  #ml algorithm\n",
        "from sklearn import metrics  #for cheching f1 score,precision\n",
        "import joblib #for creating report"
      ],
      "execution_count": 0,
      "outputs": []
    },
    {
      "cell_type": "markdown",
      "metadata": {
        "id": "ovZqNTAxGyTp",
        "colab_type": "text"
      },
      "source": [
        "##### loading our dataset"
      ]
    },
    {
      "cell_type": "code",
      "metadata": {
        "id": "BL4HaxJ8GqDF",
        "colab_type": "code",
        "colab": {
          "base_uri": "https://localhost:8080/",
          "height": 206
        },
        "outputId": "5939edec-690c-4bf1-d8b4-f422ede8d5eb"
      },
      "source": [
        "df = pd.read_csv(\"/content/drive/My Drive/maleria.csv\")\n",
        "\n",
        "df.head()"
      ],
      "execution_count": 7,
      "outputs": [
        {
          "output_type": "execute_result",
          "data": {
            "text/html": [
              "<div>\n",
              "<style scoped>\n",
              "    .dataframe tbody tr th:only-of-type {\n",
              "        vertical-align: middle;\n",
              "    }\n",
              "\n",
              "    .dataframe tbody tr th {\n",
              "        vertical-align: top;\n",
              "    }\n",
              "\n",
              "    .dataframe thead th {\n",
              "        text-align: right;\n",
              "    }\n",
              "</style>\n",
              "<table border=\"1\" class=\"dataframe\">\n",
              "  <thead>\n",
              "    <tr style=\"text-align: right;\">\n",
              "      <th></th>\n",
              "      <th>Label</th>\n",
              "      <th>area_0</th>\n",
              "      <th>area_1</th>\n",
              "      <th>area_2</th>\n",
              "      <th>area_3</th>\n",
              "      <th>area_4</th>\n",
              "    </tr>\n",
              "  </thead>\n",
              "  <tbody>\n",
              "    <tr>\n",
              "      <th>0</th>\n",
              "      <td>Parasitized</td>\n",
              "      <td>7.0</td>\n",
              "      <td>1393.0</td>\n",
              "      <td>0.0</td>\n",
              "      <td>0.0</td>\n",
              "      <td>0.0</td>\n",
              "    </tr>\n",
              "    <tr>\n",
              "      <th>1</th>\n",
              "      <td>Parasitized</td>\n",
              "      <td>1750.0</td>\n",
              "      <td>0.0</td>\n",
              "      <td>0.0</td>\n",
              "      <td>0.0</td>\n",
              "      <td>0.0</td>\n",
              "    </tr>\n",
              "    <tr>\n",
              "      <th>2</th>\n",
              "      <td>Parasitized</td>\n",
              "      <td>1568.5</td>\n",
              "      <td>0.0</td>\n",
              "      <td>0.0</td>\n",
              "      <td>0.0</td>\n",
              "      <td>0.0</td>\n",
              "    </tr>\n",
              "    <tr>\n",
              "      <th>3</th>\n",
              "      <td>Parasitized</td>\n",
              "      <td>5.5</td>\n",
              "      <td>1686.5</td>\n",
              "      <td>0.0</td>\n",
              "      <td>0.0</td>\n",
              "      <td>0.0</td>\n",
              "    </tr>\n",
              "    <tr>\n",
              "      <th>4</th>\n",
              "      <td>Parasitized</td>\n",
              "      <td>15.0</td>\n",
              "      <td>1481.5</td>\n",
              "      <td>0.0</td>\n",
              "      <td>0.0</td>\n",
              "      <td>0.0</td>\n",
              "    </tr>\n",
              "  </tbody>\n",
              "</table>\n",
              "</div>"
            ],
            "text/plain": [
              "         Label  area_0  area_1  area_2  area_3  area_4\n",
              "0  Parasitized     7.0  1393.0     0.0     0.0     0.0\n",
              "1  Parasitized  1750.0     0.0     0.0     0.0     0.0\n",
              "2  Parasitized  1568.5     0.0     0.0     0.0     0.0\n",
              "3  Parasitized     5.5  1686.5     0.0     0.0     0.0\n",
              "4  Parasitized    15.0  1481.5     0.0     0.0     0.0"
            ]
          },
          "metadata": {
            "tags": []
          },
          "execution_count": 7
        }
      ]
    },
    {
      "cell_type": "markdown",
      "metadata": {
        "id": "KqhZlpYyPAYw",
        "colab_type": "text"
      },
      "source": [
        "##### Splitting our data into train and test "
      ]
    },
    {
      "cell_type": "code",
      "metadata": {
        "id": "rZfaVAvkO_Hn",
        "colab_type": "code",
        "colab": {}
      },
      "source": [
        "x = df.drop([\"Label\"],axis=1)  #taking all features except labels(para,un))\n",
        "y = df[\"Label\"]  #independent var(output to predict)\n",
        "x_train,x_test,y_train,y_test = train_test_split(x,y,test_size=0.2,random_state=10)\n"
      ],
      "execution_count": 0,
      "outputs": []
    },
    {
      "cell_type": "markdown",
      "metadata": {
        "id": "4_A-qrgsQKg9",
        "colab_type": "text"
      },
      "source": [
        "######Building a **model**"
      ]
    },
    {
      "cell_type": "code",
      "metadata": {
        "id": "lZ80tjCaQHiU",
        "colab_type": "code",
        "colab": {
          "base_uri": "https://localhost:8080/",
          "height": 164
        },
        "outputId": "588cafa5-d698-4f09-ecf0-85f209ecef72"
      },
      "source": [
        "model = RandomForestClassifier(n_estimators=100,max_depth=5)\n",
        "model.fit(x_train,y_train)"
      ],
      "execution_count": 9,
      "outputs": [
        {
          "output_type": "execute_result",
          "data": {
            "text/plain": [
              "RandomForestClassifier(bootstrap=True, ccp_alpha=0.0, class_weight=None,\n",
              "                       criterion='gini', max_depth=5, max_features='auto',\n",
              "                       max_leaf_nodes=None, max_samples=None,\n",
              "                       min_impurity_decrease=0.0, min_impurity_split=None,\n",
              "                       min_samples_leaf=1, min_samples_split=2,\n",
              "                       min_weight_fraction_leaf=0.0, n_estimators=100,\n",
              "                       n_jobs=None, oob_score=False, random_state=None,\n",
              "                       verbose=0, warm_start=False)"
            ]
          },
          "metadata": {
            "tags": []
          },
          "execution_count": 9
        }
      ]
    },
    {
      "cell_type": "markdown",
      "metadata": {
        "id": "6Wv7PGf4Q0ws",
        "colab_type": "text"
      },
      "source": [
        "##### Classification report our model"
      ]
    },
    {
      "cell_type": "code",
      "metadata": {
        "id": "lEMqJInPQ7Sw",
        "colab_type": "code",
        "colab": {
          "base_uri": "https://localhost:8080/",
          "height": 182
        },
        "outputId": "7fff00b0-711d-4319-a13a-32851d0b5047"
      },
      "source": [
        "predictions = model.predict(x_test)\n",
        "print(metrics.classification_report(predictions,y_test))"
      ],
      "execution_count": 10,
      "outputs": [
        {
          "output_type": "stream",
          "text": [
            "              precision    recall  f1-score   support\n",
            "\n",
            " Parasitized       0.89      0.89      0.89      2783\n",
            "  Uninfected       0.55      0.55      0.55       668\n",
            "\n",
            "    accuracy                           0.82      3451\n",
            "   macro avg       0.72      0.72      0.72      3451\n",
            "weighted avg       0.83      0.82      0.82      3451\n",
            "\n"
          ],
          "name": "stdout"
        }
      ]
    },
    {
      "cell_type": "markdown",
      "metadata": {
        "id": "Tm-lGctHRUKC",
        "colab_type": "text"
      },
      "source": [
        "**Precision** here will give sense of how much error is present in your model.\n",
        "\n",
        "**recall** will tell you how many times your getting error.\n",
        "\n",
        "**f1-score** tells how well our model is performing\n",
        "\n",
        "\n"
      ]
    }
  ]
}