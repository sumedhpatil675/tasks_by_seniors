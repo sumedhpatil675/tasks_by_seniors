{
  "nbformat": 4,
  "nbformat_minor": 0,
  "metadata": {
    "colab": {
      "name": "cnn_mnist_shruti_joshi_mam.ipynb",
      "provenance": []
    },
    "kernelspec": {
      "name": "python3",
      "display_name": "Python 3"
    },
    "accelerator": "GPU"
  },
  "cells": [
    {
      "cell_type": "markdown",
      "metadata": {
        "id": "X1-7jNLqFxgS",
        "colab_type": "text"
      },
      "source": [
        "Author-  **Sumedh Patil**  Roll No : **51910008**\n",
        "\n",
        "Aim: To teach Neural Network to read handwriting.\n"
      ]
    },
    {
      "cell_type": "markdown",
      "metadata": {
        "id": "-TzN3EzfKS0P",
        "colab_type": "text"
      },
      "source": [
        "### Importing necessary libraries and dataset\n",
        "\n",
        "---\n",
        "\n",
        "\n"
      ]
    },
    {
      "cell_type": "code",
      "metadata": {
        "id": "HBaRdog-GGtf",
        "colab_type": "code",
        "colab": {
          "base_uri": "https://localhost:8080/",
          "height": 54
        },
        "outputId": "24b0558b-9361-4e9e-a39b-5747249f0416"
      },
      "source": [
        "#importing tensorflow library\n",
        "import tensorflow as tf\n",
        "\n",
        "#loading dataset provided by tensorflow\n",
        "(x_train,y_train),(x_test,y_test) = tf.keras.datasets.mnist.load_data()"
      ],
      "execution_count": 1,
      "outputs": [
        {
          "output_type": "stream",
          "text": [
            "Downloading data from https://storage.googleapis.com/tensorflow/tf-keras-datasets/mnist.npz\n",
            "11493376/11490434 [==============================] - 0s 0us/step\n"
          ],
          "name": "stdout"
        }
      ]
    },
    {
      "cell_type": "markdown",
      "metadata": {
        "id": "WXdBHTxsKoHk",
        "colab_type": "text"
      },
      "source": [
        "### Visualizing the sample dataset\n",
        "\n",
        "---\n",
        "\n"
      ]
    },
    {
      "cell_type": "code",
      "metadata": {
        "id": "0kd1slebG6Gm",
        "colab_type": "code",
        "colab": {
          "base_uri": "https://localhost:8080/",
          "height": 302
        },
        "outputId": "cd81e336-f30a-403d-ce32-ec617b29a14c"
      },
      "source": [
        "#visualizing the sample dataset\n",
        "import matplotlib.pyplot as plt\n",
        "%matplotlib inline\n",
        "#selecting sample image\n",
        "image_index = 7777\n",
        "print(y_train[image_index])\n",
        "plt.imshow(x_train[image_index],cmap='Greys')"
      ],
      "execution_count": 4,
      "outputs": [
        {
          "output_type": "stream",
          "text": [
            "8\n"
          ],
          "name": "stdout"
        },
        {
          "output_type": "execute_result",
          "data": {
            "text/plain": [
              "<matplotlib.image.AxesImage at 0x7f872ce16a90>"
            ]
          },
          "metadata": {
            "tags": []
          },
          "execution_count": 4
        },
        {
          "output_type": "display_data",
          "data": {
            "image/png": "[encoded data removed]",
            "text/plain": [
              "<Figure size 432x288 with 1 Axes>"
            ]
          },
          "metadata": {
            "tags": [],
            "needs_background": "light"
          }
        }
      ]
    },
    {
      "cell_type": "markdown",
      "metadata": {
        "id": "88N9LLzUKwht",
        "colab_type": "text"
      },
      "source": [
        "### Checking the shape(dim) of dataset\n",
        "\n",
        "---\n",
        "\n"
      ]
    },
    {
      "cell_type": "code",
      "metadata": {
        "id": "yj8RYHyYH2ih",
        "colab_type": "code",
        "colab": {
          "base_uri": "https://localhost:8080/",
          "height": 35
        },
        "outputId": "79ad2795-0371-41d1-e436-fc0164dfa8b7"
      },
      "source": [
        "#checking the shape of training dataset, before channeling to cnn\n",
        "x_train.shape\n",
        "\n",
        "#60000: total images, 28,28 is its pixels size"
      ],
      "execution_count": 5,
      "outputs": [
        {
          "output_type": "execute_result",
          "data": {
            "text/plain": [
              "(60000, 28, 28)"
            ]
          },
          "metadata": {
            "tags": []
          },
          "execution_count": 5
        }
      ]
    },
    {
      "cell_type": "markdown",
      "metadata": {
        "id": "jtbKIvouK8Hr",
        "colab_type": "text"
      },
      "source": [
        "### Reshaping the dataset\n",
        "\n",
        "---\n",
        "\n"
      ]
    },
    {
      "cell_type": "code",
      "metadata": {
        "id": "-iBLOw6iIOK_",
        "colab_type": "code",
        "colab": {
          "base_uri": "https://localhost:8080/",
          "height": 72
        },
        "outputId": "b8ec888e-b4c4-41ed-fff4-76db2ab3a6d7"
      },
      "source": [
        "#reshaping the array to 4-dims so can work with Keras API\n",
        "x_train = x_train.reshape(x_train.shape[0],28,28,1)\n",
        "x_test = x_test.reshape(x_test.shape[0],28,28,1)\n",
        "input_shape=(28,28,1)\n",
        "\n",
        "#making values as float ,so can get decimal points after division\n",
        "x_train = x_train.astype('float32')\n",
        "x_test = x_test.astype('float32')\n",
        "\n",
        "#Normalizing the RGB codes by dividing it to max RGB values\n",
        "x_train /=255\n",
        "x_test /=255\n",
        "\n",
        "print('x_train shape: ',x_train.shape)\n",
        "print('Number of images in x_train',x_train.shape[0])\n",
        "print('Number of images in x_test',x_test.shape[0])\n"
      ],
      "execution_count": 8,
      "outputs": [
        {
          "output_type": "stream",
          "text": [
            "x_train shape:  (60000, 28, 28, 1)\n",
            "Number of images in x_train 60000\n",
            "Number of images in x_test 10000\n"
          ],
          "name": "stdout"
        }
      ]
    },
    {
      "cell_type": "markdown",
      "metadata": {
        "id": "yDJwC11mLAQr",
        "colab_type": "text"
      },
      "source": [
        ""
      ]
    },
    {
      "cell_type": "markdown",
      "metadata": {
        "id": "PvAc3_z2LBcx",
        "colab_type": "text"
      },
      "source": [
        "### Creating CNN model\n",
        "\n",
        "---\n",
        "\n"
      ]
    },
    {
      "cell_type": "code",
      "metadata": {
        "id": "-G9rxmqzLRze",
        "colab_type": "code",
        "colab": {}
      },
      "source": [
        "#importing required keras modules and containing model and layers\n",
        "from keras.models import Sequential\n",
        "from keras.layers import Dense,Conv2D,Dropout,Flatten,MaxPooling2D\n",
        "\n",
        "\n",
        "#creating a Sequential Model and adding the layers\n",
        "model = Sequential()\n",
        "model.add(Conv2D(28,kernel_size=(3,3),input_shape=input_shape))\n",
        "model.add(MaxPooling2D(pool_size=(2,2)))\n",
        "model.add(Flatten()) #Flattening the 2D arrays for connected layers\n",
        "model.add(Dense(128,activation=tf.nn.relu))\n",
        "model.add(Dropout(0.2))\n",
        "model.add(Dense(10,activation=tf.nn.softmax))\n"
      ],
      "execution_count": 0,
      "outputs": []
    },
    {
      "cell_type": "markdown",
      "metadata": {
        "id": "Trxz7DLeM08v",
        "colab_type": "text"
      },
      "source": [
        "### Compiling and fitting the model"
      ]
    },
    {
      "cell_type": "code",
      "metadata": {
        "id": "p2ILKJN9M5mI",
        "colab_type": "code",
        "colab": {
          "base_uri": "https://localhost:8080/",
          "height": 403
        },
        "outputId": "2d3e3f2a-34c3-4c34-ad10-aa82c1eb1d14"
      },
      "source": [
        "model.compile(optimizer='adam',loss='sparse_categorical_crossentropy',metrics=['accuracy'])\n",
        "model.fit(x=x_train,y=y_train,epochs=10)"
      ],
      "execution_count": 10,
      "outputs": [
        {
          "output_type": "stream",
          "text": [
            "Epoch 1/10\n",
            "60000/60000 [==============================] - 11s 191us/step - loss: 0.5700 - accuracy: 0.8267\n",
            "Epoch 2/10\n",
            "60000/60000 [==============================] - 5s 88us/step - loss: 0.2288 - accuracy: 0.9317\n",
            "Epoch 3/10\n",
            "60000/60000 [==============================] - 5s 89us/step - loss: 0.1685 - accuracy: 0.9500\n",
            "Epoch 4/10\n",
            "60000/60000 [==============================] - 5s 88us/step - loss: 0.1384 - accuracy: 0.9574\n",
            "Epoch 5/10\n",
            "60000/60000 [==============================] - 5s 88us/step - loss: 0.1213 - accuracy: 0.9630\n",
            "Epoch 6/10\n",
            "60000/60000 [==============================] - 5s 87us/step - loss: 0.1092 - accuracy: 0.9667\n",
            "Epoch 7/10\n",
            "60000/60000 [==============================] - 5s 88us/step - loss: 0.0990 - accuracy: 0.9687\n",
            "Epoch 8/10\n",
            "60000/60000 [==============================] - 5s 88us/step - loss: 0.0921 - accuracy: 0.9713\n",
            "Epoch 9/10\n",
            "60000/60000 [==============================] - 5s 91us/step - loss: 0.0846 - accuracy: 0.9733\n",
            "Epoch 10/10\n",
            "60000/60000 [==============================] - 5s 89us/step - loss: 0.0800 - accuracy: 0.9746\n"
          ],
          "name": "stdout"
        },
        {
          "output_type": "execute_result",
          "data": {
            "text/plain": [
              "<keras.callbacks.callbacks.History at 0x7f86d0179438>"
            ]
          },
          "metadata": {
            "tags": []
          },
          "execution_count": 10
        }
      ]
    },
    {
      "cell_type": "markdown",
      "metadata": {
        "id": "aswcH_LXNoQ4",
        "colab_type": "text"
      },
      "source": [
        "### Checking Accuracy of the model"
      ]
    },
    {
      "cell_type": "code",
      "metadata": {
        "id": "SrxHpMtyNr2Y",
        "colab_type": "code",
        "colab": {
          "base_uri": "https://localhost:8080/",
          "height": 54
        },
        "outputId": "36c2b362-88b3-464c-f175-46180410cf19"
      },
      "source": [
        "model.evaluate(x_test,y_test)\n",
        "##we got 97 percent accuracy"
      ],
      "execution_count": 11,
      "outputs": [
        {
          "output_type": "stream",
          "text": [
            "10000/10000 [==============================] - 1s 51us/step\n"
          ],
          "name": "stdout"
        },
        {
          "output_type": "execute_result",
          "data": {
            "text/plain": [
              "[0.06632942986036651, 0.9793000221252441]"
            ]
          },
          "metadata": {
            "tags": []
          },
          "execution_count": 11
        }
      ]
    },
    {
      "cell_type": "markdown",
      "metadata": {
        "id": "giq8zAbkN8fS",
        "colab_type": "text"
      },
      "source": [
        "### Prediction with created cnn model\n",
        "\n",
        "---\n"
      ]
    },
    {
      "cell_type": "code",
      "metadata": {
        "id": "HQgC89SbNmVE",
        "colab_type": "code",
        "colab": {
          "base_uri": "https://localhost:8080/",
          "height": 283
        },
        "outputId": "613fdb43-83c8-42bf-9676-03e6430ac502"
      },
      "source": [
        "image_index = 4444\n",
        "plt.imshow(x_test[image_index].reshape(28,28),cmap='Greys')"
      ],
      "execution_count": 14,
      "outputs": [
        {
          "output_type": "execute_result",
          "data": {
            "text/plain": [
              "<matplotlib.image.AxesImage at 0x7f86b9fc59e8>"
            ]
          },
          "metadata": {
            "tags": []
          },
          "execution_count": 14
        },
        {
          "output_type": "display_data",
          "data": {
            "image/png": "[encoded data removed]",
            "text/plain": [
              "<Figure size 432x288 with 1 Axes>"
            ]
          },
          "metadata": {
            "tags": [],
            "needs_background": "light"
          }
        }
      ]
    },
    {
      "cell_type": "markdown",
      "metadata": {
        "id": "vFtoDXHoOkbG",
        "colab_type": "text"
      },
      "source": [
        "We can see above image shows 9 ,lets try to predict with our cnn model"
      ]
    },
    {
      "cell_type": "code",
      "metadata": {
        "id": "WK9O4fjcOzUT",
        "colab_type": "code",
        "colab": {
          "base_uri": "https://localhost:8080/",
          "height": 35
        },
        "outputId": "c4976c98-07de-4581-ac8f-ead954d5bfdd"
      },
      "source": [
        "pred = model.predict(x_test[image_index].reshape(1,28,28,1))\n",
        "print(pred.argmax())"
      ],
      "execution_count": 15,
      "outputs": [
        {
          "output_type": "stream",
          "text": [
            "9\n"
          ],
          "name": "stdout"
        }
      ]
    }
  ]
}